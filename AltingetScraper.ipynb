{
 "cells": [
  {
   "cell_type": "code",
   "execution_count": null,
   "source": [
    "def getButtonXpath(questionNumber, answerNumber):\r\n",
    "    return \"//fieldset[\" + str(questionNumber) +\"]/footer/div/label[\" + str(answerNumber) + \"]\""
   ],
   "outputs": [],
   "metadata": {}
  },
  {
   "cell_type": "code",
   "execution_count": null,
   "source": [
    "getButtonXpath(5,4)"
   ],
   "outputs": [],
   "metadata": {}
  },
  {
   "cell_type": "code",
   "execution_count": 7,
   "source": [
    "from selenium import webdriver\r\n",
    "import bs4\r\n",
    "from bs4 import BeautifulSoup as soup\r\n",
    "import time\r\n",
    "driver = webdriver.Chrome(\"chromedriver.exe\")\r\n",
    "driver.get(\"https://api.altinget.dk/kandidater/kv17/holdningsprofil.aspx\")\r\n",
    "BUTTOM_PRESS_DELAY = 5\r\n",
    "\r\n",
    "driver.find_element_by_xpath(\"//fieldset[1]/footer/div/label[1]\").click()"
   ],
   "outputs": [],
   "metadata": {}
  }
 ],
 "metadata": {
  "kernelspec": {
   "display_name": "Python 3",
   "language": "python",
   "name": "python3"
  },
  "language_info": {
   "codemirror_mode": {
    "name": "ipython",
    "version": 3
   },
   "file_extension": ".py",
   "mimetype": "text/x-python",
   "name": "python",
   "nbconvert_exporter": "python",
   "pygments_lexer": "ipython3",
   "version": "3.8.5"
  }
 },
 "nbformat": 4,
 "nbformat_minor": 2
}